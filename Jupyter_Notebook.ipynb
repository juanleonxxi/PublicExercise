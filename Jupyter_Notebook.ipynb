{
 "cells": [
  {
   "cell_type": "markdown",
   "metadata": {},
   "source": [
    "<center>\n",
    "    <img src=\"https://cf-courses-data.s3.us.cloud-object-storage.appdomain.cloud/IBMDeveloperSkillsNetwork-DS0105EN-SkillsNetwork/labs/Module2/images/SN_web_lightmode.png\" width=\"300\" alt=\"cognitiveclass.ai logo\">\n",
    "</center>\n"
   ]
  },
  {
   "cell_type": "markdown",
   "metadata": {},
   "source": [
    "#### Add your code below following the instructions given in the course\n"
   ]
  },
  {
   "cell_type": "code",
   "execution_count": 2,
   "metadata": {
    "tags": []
   },
   "outputs": [
    {
     "data": {
      "text/plain": [
       "3.3333333333333335"
      ]
     },
     "execution_count": 2,
     "metadata": {},
     "output_type": "execute_result"
    }
   ],
   "source": [
    "# # Data Science Tools and Ecosystem\n",
    "\n",
    "# In this notebook, Data Science Tools and Ecosystem are summarized.\n",
    "\n",
    "# Objectives:\n",
    "# * List popular languages for Data Science\n",
    "# * List popular libraries for Data Science\n",
    "# * List popular Open Source tools on Data Science\n",
    "# * Learn how to format code in Jupyter Notebooks\n",
    "# * Get familiar with data respositories and Github\n",
    "\n",
    "# Some of the popular languages that Data Scientists use are\n",
    "# 1. Python\n",
    "# 1. R\n",
    "# 1. SQL\n",
    "\n",
    "# Some of the commonly used libraries used by Data Scientists include:\n",
    "# * NumPy\n",
    "# * SciPy \n",
    "# * Matplotlib \n",
    "\n",
    "# | Data Science Tools |\n",
    "# |:--------:|\n",
    "# | Jupyter Notebook |\n",
    "# | Jupyter Lab |\n",
    "# | RStudio |\n",
    "\n",
    "# ### Below are a few examples of evaluating expressions in Python\n",
    "\n",
    "# In[6]:\n",
    "\n",
    "\n",
    "# This is a simple arithmetic expression to multiply and then add integers\n",
    "(3*4)+5\n",
    "\n",
    "\n",
    "# In[5]:\n",
    "\n",
    "\n",
    "# This will convert 200 minutes to hours by dividing by 60\n",
    "200/60\n",
    "\n",
    "\n",
    "# ## Author \n",
    "# Juan Antonio Martinez Leon\n"
   ]
  },
  {
   "cell_type": "code",
   "execution_count": null,
   "metadata": {},
   "outputs": [],
   "source": []
  }
 ],
 "metadata": {
  "kernelspec": {
   "display_name": "Python",
   "language": "python",
   "name": "conda-env-python-py"
  },
  "language_info": {
   "codemirror_mode": {
    "name": "ipython",
    "version": 3
   },
   "file_extension": ".py",
   "mimetype": "text/x-python",
   "name": "python",
   "nbconvert_exporter": "python",
   "pygments_lexer": "ipython3",
   "version": "3.7.12"
  }
 },
 "nbformat": 4,
 "nbformat_minor": 4
}
